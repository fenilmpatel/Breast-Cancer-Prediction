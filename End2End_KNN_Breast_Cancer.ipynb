{
 "cells": [
  {
   "cell_type": "markdown",
   "id": "individual-separation",
   "metadata": {},
   "source": [
    "## Import All Required Library"
   ]
  },
  {
   "cell_type": "code",
   "execution_count": 28,
   "id": "affected-sleep",
   "metadata": {},
   "outputs": [],
   "source": [
    "import numpy as np\n",
    "import pandas as pd\n",
    "import matplotlib.pyplot as plt\n",
    "import seaborn as sns"
   ]
  },
  {
   "cell_type": "markdown",
   "id": "romantic-cooper",
   "metadata": {},
   "source": [
    "### Read The CSV File"
   ]
  },
  {
   "cell_type": "code",
   "execution_count": 29,
   "id": "original-rubber",
   "metadata": {},
   "outputs": [],
   "source": [
    "d1 = pd.read_csv('data\\\\KNN\\\\Breast_Cancer.csv')\n"
   ]
  },
  {
   "cell_type": "markdown",
   "id": "imperial-still",
   "metadata": {},
   "source": [
    "\n",
    "#### 1.Clump Thickness -- growing unwanted tissues in breast 1 is small and 10 is large \n",
    "#### 2.Uniformity of Cell Size -- cell size in cancer 1- small\n",
    "#### 3.Uniformity of Cell Shape -- cell shape in cancer 1-small\n",
    "#### 4.Marginal Adhesion -- sign of malign of cancer \n",
    "#### 5.Single Epithelial Cell Size -- single layer of cells is called simple epithelia\n",
    "#### 6.Bare Nuclei -- The presence of a dual population of epithelial and myoepithelial cells and of numerous bare nuclei\n",
    "#### 7.Bland Chromatin -- Describes a uniform “texture” of the nucleus seen in benign cells. In cancer cells, the chromatin tends to be coarser.\n",
    "#### 8.Normal Nucleoli -- nucleouls in breast \n",
    "#### 9.Mitoses -- describes how quickly the cancer cells are multiplying or dividing using a 1 to 3 scale: 1 being the slowest, 3 the quickest.\n",
    "#### 10.class -- 2--benign (no) 4--malignant(yes she has a cancer)"
   ]
  },
  {
   "cell_type": "markdown",
   "id": "needed-debate",
   "metadata": {},
   "source": [
    "### Make A Copy of a Dataset"
   ]
  },
  {
   "cell_type": "code",
   "execution_count": 30,
   "id": "circular-beginning",
   "metadata": {},
   "outputs": [],
   "source": [
    "df = d1.copy()"
   ]
  },
  {
   "cell_type": "markdown",
   "id": "satellite-polyester",
   "metadata": {},
   "source": [
    "# 1.EDA"
   ]
  },
  {
   "cell_type": "markdown",
   "id": "impressive-catalog",
   "metadata": {},
   "source": [
    "### Understand the Data"
   ]
  },
  {
   "cell_type": "code",
   "execution_count": 31,
   "id": "numerous-belgium",
   "metadata": {
    "scrolled": true
   },
   "outputs": [
    {
     "data": {
      "text/html": [
       "<div>\n",
       "<style scoped>\n",
       "    .dataframe tbody tr th:only-of-type {\n",
       "        vertical-align: middle;\n",
       "    }\n",
       "\n",
       "    .dataframe tbody tr th {\n",
       "        vertical-align: top;\n",
       "    }\n",
       "\n",
       "    .dataframe thead th {\n",
       "        text-align: right;\n",
       "    }\n",
       "</style>\n",
       "<table border=\"1\" class=\"dataframe\">\n",
       "  <thead>\n",
       "    <tr style=\"text-align: right;\">\n",
       "      <th></th>\n",
       "      <th>Sample code number</th>\n",
       "      <th>Clump Thickness</th>\n",
       "      <th>Uniformity of Cell Size</th>\n",
       "      <th>Uniformity of Cell Shape</th>\n",
       "      <th>Marginal Adhesion</th>\n",
       "      <th>Single Epithelial Cell Size</th>\n",
       "      <th>Bare Nuclei</th>\n",
       "      <th>Bland Chromatin</th>\n",
       "      <th>Normal Nucleoli</th>\n",
       "      <th>Mitoses</th>\n",
       "      <th>Class</th>\n",
       "    </tr>\n",
       "  </thead>\n",
       "  <tbody>\n",
       "    <tr>\n",
       "      <th>count</th>\n",
       "      <td>6.990000e+02</td>\n",
       "      <td>699.000000</td>\n",
       "      <td>699.000000</td>\n",
       "      <td>699.000000</td>\n",
       "      <td>699.000000</td>\n",
       "      <td>699.000000</td>\n",
       "      <td>683.000000</td>\n",
       "      <td>699.000000</td>\n",
       "      <td>699.000000</td>\n",
       "      <td>699.000000</td>\n",
       "      <td>699.000000</td>\n",
       "    </tr>\n",
       "    <tr>\n",
       "      <th>mean</th>\n",
       "      <td>1.071704e+06</td>\n",
       "      <td>4.417740</td>\n",
       "      <td>3.134478</td>\n",
       "      <td>3.207439</td>\n",
       "      <td>2.806867</td>\n",
       "      <td>3.216023</td>\n",
       "      <td>3.544656</td>\n",
       "      <td>3.437768</td>\n",
       "      <td>2.866953</td>\n",
       "      <td>1.589413</td>\n",
       "      <td>2.689557</td>\n",
       "    </tr>\n",
       "    <tr>\n",
       "      <th>std</th>\n",
       "      <td>6.170957e+05</td>\n",
       "      <td>2.815741</td>\n",
       "      <td>3.051459</td>\n",
       "      <td>2.971913</td>\n",
       "      <td>2.855379</td>\n",
       "      <td>2.214300</td>\n",
       "      <td>3.643857</td>\n",
       "      <td>2.438364</td>\n",
       "      <td>3.053634</td>\n",
       "      <td>1.715078</td>\n",
       "      <td>0.951273</td>\n",
       "    </tr>\n",
       "    <tr>\n",
       "      <th>min</th>\n",
       "      <td>6.163400e+04</td>\n",
       "      <td>1.000000</td>\n",
       "      <td>1.000000</td>\n",
       "      <td>1.000000</td>\n",
       "      <td>1.000000</td>\n",
       "      <td>1.000000</td>\n",
       "      <td>1.000000</td>\n",
       "      <td>1.000000</td>\n",
       "      <td>1.000000</td>\n",
       "      <td>1.000000</td>\n",
       "      <td>2.000000</td>\n",
       "    </tr>\n",
       "    <tr>\n",
       "      <th>25%</th>\n",
       "      <td>8.706885e+05</td>\n",
       "      <td>2.000000</td>\n",
       "      <td>1.000000</td>\n",
       "      <td>1.000000</td>\n",
       "      <td>1.000000</td>\n",
       "      <td>2.000000</td>\n",
       "      <td>1.000000</td>\n",
       "      <td>2.000000</td>\n",
       "      <td>1.000000</td>\n",
       "      <td>1.000000</td>\n",
       "      <td>2.000000</td>\n",
       "    </tr>\n",
       "    <tr>\n",
       "      <th>50%</th>\n",
       "      <td>1.171710e+06</td>\n",
       "      <td>4.000000</td>\n",
       "      <td>1.000000</td>\n",
       "      <td>1.000000</td>\n",
       "      <td>1.000000</td>\n",
       "      <td>2.000000</td>\n",
       "      <td>1.000000</td>\n",
       "      <td>3.000000</td>\n",
       "      <td>1.000000</td>\n",
       "      <td>1.000000</td>\n",
       "      <td>2.000000</td>\n",
       "    </tr>\n",
       "    <tr>\n",
       "      <th>75%</th>\n",
       "      <td>1.238298e+06</td>\n",
       "      <td>6.000000</td>\n",
       "      <td>5.000000</td>\n",
       "      <td>5.000000</td>\n",
       "      <td>4.000000</td>\n",
       "      <td>4.000000</td>\n",
       "      <td>6.000000</td>\n",
       "      <td>5.000000</td>\n",
       "      <td>4.000000</td>\n",
       "      <td>1.000000</td>\n",
       "      <td>4.000000</td>\n",
       "    </tr>\n",
       "    <tr>\n",
       "      <th>max</th>\n",
       "      <td>1.345435e+07</td>\n",
       "      <td>10.000000</td>\n",
       "      <td>10.000000</td>\n",
       "      <td>10.000000</td>\n",
       "      <td>10.000000</td>\n",
       "      <td>10.000000</td>\n",
       "      <td>10.000000</td>\n",
       "      <td>10.000000</td>\n",
       "      <td>10.000000</td>\n",
       "      <td>10.000000</td>\n",
       "      <td>4.000000</td>\n",
       "    </tr>\n",
       "  </tbody>\n",
       "</table>\n",
       "</div>"
      ],
      "text/plain": [
       "       Sample code number  Clump Thickness   Uniformity of Cell Size  \\\n",
       "count        6.990000e+02        699.000000               699.000000   \n",
       "mean         1.071704e+06          4.417740                 3.134478   \n",
       "std          6.170957e+05          2.815741                 3.051459   \n",
       "min          6.163400e+04          1.000000                 1.000000   \n",
       "25%          8.706885e+05          2.000000                 1.000000   \n",
       "50%          1.171710e+06          4.000000                 1.000000   \n",
       "75%          1.238298e+06          6.000000                 5.000000   \n",
       "max          1.345435e+07         10.000000                10.000000   \n",
       "\n",
       "       Uniformity of Cell Shape  Marginal Adhesion  \\\n",
       "count                699.000000         699.000000   \n",
       "mean                   3.207439           2.806867   \n",
       "std                    2.971913           2.855379   \n",
       "min                    1.000000           1.000000   \n",
       "25%                    1.000000           1.000000   \n",
       "50%                    1.000000           1.000000   \n",
       "75%                    5.000000           4.000000   \n",
       "max                   10.000000          10.000000   \n",
       "\n",
       "       Single Epithelial Cell Size  Bare Nuclei  Bland Chromatin  \\\n",
       "count                   699.000000   683.000000       699.000000   \n",
       "mean                      3.216023     3.544656         3.437768   \n",
       "std                       2.214300     3.643857         2.438364   \n",
       "min                       1.000000     1.000000         1.000000   \n",
       "25%                       2.000000     1.000000         2.000000   \n",
       "50%                       2.000000     1.000000         3.000000   \n",
       "75%                       4.000000     6.000000         5.000000   \n",
       "max                      10.000000    10.000000        10.000000   \n",
       "\n",
       "       Normal Nucleoli    Mitoses        Class  \n",
       "count       699.000000  699.000000  699.000000  \n",
       "mean          2.866953    1.589413    2.689557  \n",
       "std           3.053634    1.715078    0.951273  \n",
       "min           1.000000    1.000000    2.000000  \n",
       "25%           1.000000    1.000000    2.000000  \n",
       "50%           1.000000    1.000000    2.000000  \n",
       "75%           4.000000    1.000000    4.000000  \n",
       "max          10.000000   10.000000    4.000000  "
      ]
     },
     "execution_count": 31,
     "metadata": {},
     "output_type": "execute_result"
    }
   ],
   "source": [
    "df.describe()"
   ]
  },
  {
   "cell_type": "code",
   "execution_count": 32,
   "id": "historic-jumping",
   "metadata": {},
   "outputs": [
    {
     "data": {
      "text/plain": [
       "(699, 11)"
      ]
     },
     "execution_count": 32,
     "metadata": {},
     "output_type": "execute_result"
    }
   ],
   "source": [
    "df.shape"
   ]
  },
  {
   "cell_type": "code",
   "execution_count": 33,
   "id": "literary-execution",
   "metadata": {},
   "outputs": [
    {
     "data": {
      "text/html": [
       "<div>\n",
       "<style scoped>\n",
       "    .dataframe tbody tr th:only-of-type {\n",
       "        vertical-align: middle;\n",
       "    }\n",
       "\n",
       "    .dataframe tbody tr th {\n",
       "        vertical-align: top;\n",
       "    }\n",
       "\n",
       "    .dataframe thead th {\n",
       "        text-align: right;\n",
       "    }\n",
       "</style>\n",
       "<table border=\"1\" class=\"dataframe\">\n",
       "  <thead>\n",
       "    <tr style=\"text-align: right;\">\n",
       "      <th></th>\n",
       "      <th>Sample code number</th>\n",
       "      <th>Clump Thickness</th>\n",
       "      <th>Uniformity of Cell Size</th>\n",
       "      <th>Uniformity of Cell Shape</th>\n",
       "      <th>Marginal Adhesion</th>\n",
       "      <th>Single Epithelial Cell Size</th>\n",
       "      <th>Bare Nuclei</th>\n",
       "      <th>Bland Chromatin</th>\n",
       "      <th>Normal Nucleoli</th>\n",
       "      <th>Mitoses</th>\n",
       "      <th>Class</th>\n",
       "    </tr>\n",
       "  </thead>\n",
       "  <tbody>\n",
       "    <tr>\n",
       "      <th>0</th>\n",
       "      <td>1000025</td>\n",
       "      <td>5</td>\n",
       "      <td>1</td>\n",
       "      <td>1</td>\n",
       "      <td>1</td>\n",
       "      <td>2</td>\n",
       "      <td>1.0</td>\n",
       "      <td>3</td>\n",
       "      <td>1</td>\n",
       "      <td>1</td>\n",
       "      <td>2</td>\n",
       "    </tr>\n",
       "    <tr>\n",
       "      <th>1</th>\n",
       "      <td>1002945</td>\n",
       "      <td>5</td>\n",
       "      <td>4</td>\n",
       "      <td>4</td>\n",
       "      <td>5</td>\n",
       "      <td>7</td>\n",
       "      <td>10.0</td>\n",
       "      <td>3</td>\n",
       "      <td>2</td>\n",
       "      <td>1</td>\n",
       "      <td>2</td>\n",
       "    </tr>\n",
       "    <tr>\n",
       "      <th>2</th>\n",
       "      <td>1015425</td>\n",
       "      <td>3</td>\n",
       "      <td>1</td>\n",
       "      <td>1</td>\n",
       "      <td>1</td>\n",
       "      <td>2</td>\n",
       "      <td>2.0</td>\n",
       "      <td>3</td>\n",
       "      <td>1</td>\n",
       "      <td>1</td>\n",
       "      <td>2</td>\n",
       "    </tr>\n",
       "    <tr>\n",
       "      <th>3</th>\n",
       "      <td>1016277</td>\n",
       "      <td>6</td>\n",
       "      <td>8</td>\n",
       "      <td>8</td>\n",
       "      <td>1</td>\n",
       "      <td>3</td>\n",
       "      <td>4.0</td>\n",
       "      <td>3</td>\n",
       "      <td>7</td>\n",
       "      <td>1</td>\n",
       "      <td>2</td>\n",
       "    </tr>\n",
       "    <tr>\n",
       "      <th>4</th>\n",
       "      <td>1017023</td>\n",
       "      <td>4</td>\n",
       "      <td>1</td>\n",
       "      <td>1</td>\n",
       "      <td>3</td>\n",
       "      <td>2</td>\n",
       "      <td>1.0</td>\n",
       "      <td>3</td>\n",
       "      <td>1</td>\n",
       "      <td>1</td>\n",
       "      <td>2</td>\n",
       "    </tr>\n",
       "  </tbody>\n",
       "</table>\n",
       "</div>"
      ],
      "text/plain": [
       "   Sample code number  Clump Thickness   Uniformity of Cell Size  \\\n",
       "0             1000025                 5                        1   \n",
       "1             1002945                 5                        4   \n",
       "2             1015425                 3                        1   \n",
       "3             1016277                 6                        8   \n",
       "4             1017023                 4                        1   \n",
       "\n",
       "   Uniformity of Cell Shape  Marginal Adhesion  Single Epithelial Cell Size  \\\n",
       "0                         1                  1                            2   \n",
       "1                         4                  5                            7   \n",
       "2                         1                  1                            2   \n",
       "3                         8                  1                            3   \n",
       "4                         1                  3                            2   \n",
       "\n",
       "   Bare Nuclei  Bland Chromatin  Normal Nucleoli  Mitoses   Class  \n",
       "0          1.0                3                1         1      2  \n",
       "1         10.0                3                2         1      2  \n",
       "2          2.0                3                1         1      2  \n",
       "3          4.0                3                7         1      2  \n",
       "4          1.0                3                1         1      2  "
      ]
     },
     "execution_count": 33,
     "metadata": {},
     "output_type": "execute_result"
    }
   ],
   "source": [
    "df.head()"
   ]
  },
  {
   "cell_type": "markdown",
   "id": "chubby-flash",
   "metadata": {},
   "source": [
    "### Find Missing Values in Dataset"
   ]
  },
  {
   "cell_type": "code",
   "execution_count": 34,
   "id": "separate-reset",
   "metadata": {},
   "outputs": [
    {
     "data": {
      "text/plain": [
       "Bare Nuclei                    16\n",
       "Class                           0\n",
       "Mitoses                         0\n",
       "Normal Nucleoli                 0\n",
       "Bland Chromatin                 0\n",
       "Single Epithelial Cell Size     0\n",
       "Marginal Adhesion               0\n",
       "Uniformity of Cell Shape        0\n",
       "Uniformity of Cell Size         0\n",
       "Clump Thickness                 0\n",
       "Sample code number              0\n",
       "dtype: int64"
      ]
     },
     "execution_count": 34,
     "metadata": {},
     "output_type": "execute_result"
    }
   ],
   "source": [
    "df.isna().sum().sort_values(ascending=False)"
   ]
  },
  {
   "cell_type": "code",
   "execution_count": 35,
   "id": "violent-spotlight",
   "metadata": {},
   "outputs": [
    {
     "data": {
      "text/plain": [
       "<AxesSubplot:>"
      ]
     },
     "execution_count": 35,
     "metadata": {},
     "output_type": "execute_result"
    },
    {
     "data": {
      "image/png": "[encoded data removed]",
      "text/plain": [
       "<Figure size 1800x720 with 2 Axes>"
      ]
     },
     "metadata": {
      "needs_background": "light"
     },
     "output_type": "display_data"
    }
   ],
   "source": [
    "import missingno as mn\n",
    "mn.matrix(df)"
   ]
  },
  {
   "cell_type": "markdown",
   "id": "basic-phone",
   "metadata": {},
   "source": [
    "### As you Can See in Image There are Missing values in Bare Nuclei"
   ]
  },
  {
   "cell_type": "markdown",
   "id": "manufactured-advancement",
   "metadata": {},
   "source": [
    "### Analysis of Dataset in Deep"
   ]
  },
  {
   "cell_type": "code",
   "execution_count": 36,
   "id": "psychological-requirement",
   "metadata": {},
   "outputs": [
    {
     "data": {
      "text/plain": [
       "Sample code number               int64\n",
       "Clump Thickness                  int64\n",
       "Uniformity of Cell Size          int64\n",
       "Uniformity of Cell Shape         int64\n",
       "Marginal Adhesion                int64\n",
       "Single Epithelial Cell Size      int64\n",
       "Bare Nuclei                    float64\n",
       "Bland Chromatin                  int64\n",
       "Normal Nucleoli                  int64\n",
       "Mitoses                          int64\n",
       "Class                            int64\n",
       "dtype: object"
      ]
     },
     "execution_count": 36,
     "metadata": {},
     "output_type": "execute_result"
    }
   ],
   "source": [
    "df.dtypes"
   ]
  },
  {
   "cell_type": "code",
   "execution_count": 37,
   "id": "absent-recruitment",
   "metadata": {},
   "outputs": [
    {
     "name": "stdout",
     "output_type": "stream",
     "text": [
      "Sample code number --> [ 1000025  1002945  1015425  1016277  1017023  1017122  1018099  1018561\n",
      "  1033078  1035283  1036172  1041801  1043999  1044572  1047630  1048672\n",
      "  1049815  1050670  1050718  1054590  1054593  1056784  1057013  1059552\n",
      "  1065726  1066373  1066979  1067444  1070935  1071760  1072179  1074610\n",
      "  1075123  1079304  1080185  1081791  1084584  1091262  1096800  1099510\n",
      "  1100524  1102573  1103608  1103722  1105257  1105524  1106095  1106829\n",
      "  1108370  1108449  1110102  1110503  1110524  1111249  1112209  1113038\n",
      "  1113483  1113906  1115282  1115293  1116116  1116132  1116192  1116998\n",
      "  1117152  1118039  1120559  1121732  1121919  1123061  1124651  1125035\n",
      "  1126417  1131294  1132347  1133041  1133136  1136142  1137156  1143978\n",
      "  1147044  1147699  1147748  1148278  1148873  1152331  1155546  1156272\n",
      "  1156948  1157734  1158247  1160476  1164066  1165297  1165790  1165926\n",
      "  1166630  1166654  1167439  1167471  1168359  1168736  1169049  1170419\n",
      "  1170420  1171710  1171795  1171845  1172152  1173216  1173235  1173347\n",
      "  1173509  1173514  1173681  1174057  1174131  1174428  1175937  1176406\n",
      "  1176881  1177027  1177399  1177512  1178580  1179818  1180194  1180523\n",
      "  1180831  1181356  1182404  1182410  1183240  1183246  1183516  1183911\n",
      "  1183983  1184184  1184241  1184840  1185609  1185610  1187457  1187805\n",
      "  1188472  1189266  1189286  1190394  1190485  1192325  1193091  1193210\n",
      "  1193683  1196295  1196915  1197080  1197270  1197440  1197510  1197979\n",
      "  1197993  1198128  1198641  1199219  1199731  1199983  1200772  1200847\n",
      "  1200892  1200952  1201834  1201936  1202125  1202812  1203096  1204242\n",
      "  1204898  1205138  1205579  1206089  1206695  1206841  1207986  1208301\n",
      "  1210963  1211202  1212232  1212251  1212422  1213375  1213383  1214092\n",
      "  1214556  1214966  1216694  1216947  1217051  1217264  1218105  1218741\n",
      "  1218860  1219406  1219525  1219859  1220330  1221863  1222047  1222936\n",
      "  1223282  1223426  1223793  1223967  1224329  1225799  1226012  1226612\n",
      "  1227210  1227244  1227481  1228152  1228311  1230175  1230688  1231387\n",
      "  1231706  1232225  1236043  1241232  1241559  1241679  1242364  1243256\n",
      "  1270479  1276091  1277018   128059  1285531  1287775   144888   145447\n",
      "   167528   169356   183913   191250   242970   255644   263538   274137\n",
      "   303213   314428   320675   324427   385103   390840   411453   428903\n",
      "   431495   432809   434518   452264   456282   476903   486283   486662\n",
      "   488173   492268   508234   527363   529329   535331   543558   555977\n",
      "   560680   561477   563649   601265   606140   606722   616240    61634\n",
      "   625201    63375   635844   636130   640744   646904   653777   659642\n",
      "   666090   666942   667204   673637   684955   688033   691628   693702\n",
      "   704097   704168   706426   709287   718641   721482   730881   733639\n",
      "   733823   740492   743348   752904   756136   760001   760239    76389\n",
      "   764974   770066   785208   785615   792744   797327   798429   806423\n",
      "   809912   810104   814265   814911   822829   826923   830690   831268\n",
      "   832226   832567   836433   837082   846832   850831   855524   857774\n",
      "   859164   859350   866325   873549   877291   877943   888169   888523\n",
      "   896404   897172    95719   160296   342245   428598   492561   493452\n",
      "   521441   636437   640712   654244   657753   685977   805448   846423\n",
      "  1002504  1022257  1026122  1071084  1080233  1114570  1116715  1131411\n",
      "  1151734  1156017  1158405  1168278  1176187  1196263  1196475  1206314\n",
      "  1211265  1213784  1223003  1223306  1223543  1229929  1231853  1234554\n",
      "  1236837  1237674  1238021  1238464  1238633  1238915  1238948  1239232\n",
      "  1239347  1239967  1240337  1253505  1255384  1257200  1257648  1257815\n",
      "  1257938  1258549  1258556  1266154  1272039  1277629  1293439  1294562\n",
      "  1295186   527337   558538   566509   608157   677910   734111   780555\n",
      "   827627  1049837  1058849  1193544  1201870  1202253  1227081  1230994\n",
      "  1238410  1246562  1257470  1259008  1266124  1267898  1268313  1268804\n",
      "  1280258  1293966  1296572  1298416  1299596  1181685  1211594  1238777\n",
      "  1257608  1269574  1277145  1287282  1296025  1296263  1296593  1299161\n",
      "  1301945  1302428  1318169   474162   787451  1002025  1070522  1073960\n",
      "  1076352  1084139  1119189  1133991  1142706  1155967  1170945  1181567\n",
      "  1204558  1217952  1224565  1238186  1253917  1265899  1268766  1277268\n",
      "  1286943  1295508  1297327  1297522  1298360  1299924  1299994  1304595\n",
      "  1306282  1313325  1320077  1320304  1330439   333093   369565   412300\n",
      "   672113   749653   769612   807657  8233704   837480   867392   869828\n",
      "  1043068  1056171  1061990  1113061  1135090  1145420  1158157  1171578\n",
      "  1174841  1184586  1186936  1197527  1222464  1240603  1241035  1287971\n",
      "  1289391  1306339  1313658  1313982  1321264  1321321  1321348  1321931\n",
      "  1321942  1328331  1328755  1331405  1331412  1333104  1334071  1343068\n",
      "  1343374  1344121   142932   183936   324382   378275   690557   695091\n",
      "   695219   824249   871549   878358  1107684  1115762  1217717  1239420\n",
      "  1254538  1261751  1268275  1272166  1294261  1295529  1298484  1311875\n",
      "  1315506  1320141  1325309  1333063  1333495  1334659  1336798  1344449\n",
      "  1350568  1352663   188336   352431   353098   557583   636375   736150\n",
      "   803531  1016634  1031608  1041043  1042252  1057067  1073836  1083817\n",
      "  1096352  1140597  1149548  1174009  1183596  1190386  1190546  1213273\n",
      "  1218982  1225382  1235807  1253955  1257366  1260659  1268952  1275807\n",
      "  1277792  1285722  1288608  1290203  1294413  1303489  1311033  1311108\n",
      "  1315807  1318671  1319609  1323477  1324572  1324681  1325159  1326892\n",
      "  1330361  1333877  1334015  1334667  1339781 13454352  1345452  1345593\n",
      "  1347749  1347943  1348851  1350319  1350423  1352848  1353092  1354840\n",
      "  1355260  1365075  1365328  1368267  1368273  1368882  1369821  1371026\n",
      "  1371920   466906   534555   536708   566346   603148   654546   714039\n",
      "   763235   776715   841769   888820   897471]\n",
      "---\n",
      "Clump Thickness  --> [ 5  3  6  4  8  1  2  7 10  9]\n",
      "---\n",
      "Uniformity of Cell Size --> [ 1  4  8 10  2  3  7  5  6  9]\n",
      "---\n",
      "Uniformity of Cell Shape --> [ 1  4  8 10  2  3  5  6  7  9]\n",
      "---\n",
      "Marginal Adhesion --> [ 1  5  3  8 10  4  6  2  9  7]\n",
      "---\n",
      "Single Epithelial Cell Size --> [ 2  7  3  1  6  4  5  8 10  9]\n",
      "---\n",
      "Bare Nuclei --> [ 1. 10.  2.  4.  3.  9.  7. nan  5.  8.  6.]\n",
      "---\n",
      "Bland Chromatin --> [ 3  9  1  2  4  5  7  8  6 10]\n",
      "---\n",
      "Normal Nucleoli --> [ 1  2  7  4  5  3 10  6  9  8]\n",
      "---\n",
      "Mitoses  --> [ 1  5  4  2  3  7 10  8  6]\n",
      "---\n",
      "Class --> [2 4]\n",
      "---\n"
     ]
    }
   ],
   "source": [
    "for i in df.columns:\n",
    "    print(i,\"-->\",df[i].unique())\n",
    "    print('---')"
   ]
  },
  {
   "cell_type": "markdown",
   "id": "accurate-ukraine",
   "metadata": {},
   "source": [
    "### Correlation"
   ]
  },
  {
   "cell_type": "code",
   "execution_count": 38,
   "id": "ethical-showcase",
   "metadata": {},
   "outputs": [],
   "source": [
    "cor=df.corr()\n",
    "cor = np.tril(cor,k=1)"
   ]
  },
  {
   "cell_type": "code",
   "execution_count": 39,
   "id": "spectacular-program",
   "metadata": {},
   "outputs": [
    {
     "data": {
      "text/plain": [
       "<AxesSubplot:>"
      ]
     },
     "execution_count": 39,
     "metadata": {},
     "output_type": "execute_result"
    },
    {
     "data": {
      "image/png": "[encoded data removed]",
      "text/plain": [
       "<Figure size 1440x1440 with 2 Axes>"
      ]
     },
     "metadata": {
      "needs_background": "light"
     },
     "output_type": "display_data"
    }
   ],
   "source": [
    "plt.figure(figsize=(20,20))\n",
    "sns.heatmap(cor,annot=True,vmin=-1,vmax=1,xticklabels=df.columns,yticklabels=df.columns)"
   ]
  },
  {
   "cell_type": "markdown",
   "id": "promotional-cable",
   "metadata": {},
   "source": [
    "### Remove features which has highly correlation"
   ]
  },
  {
   "cell_type": "code",
   "execution_count": 40,
   "id": "informal-greenhouse",
   "metadata": {},
   "outputs": [],
   "source": [
    "remove = ['Uniformity of Cell Shape']\n"
   ]
  },
  {
   "cell_type": "code",
   "execution_count": 41,
   "id": "proud-nerve",
   "metadata": {},
   "outputs": [],
   "source": [
    "keep = [i for i in df.columns if i != 'Uniformity of Cell Shape']"
   ]
  },
  {
   "cell_type": "code",
   "execution_count": 42,
   "id": "ambient-formation",
   "metadata": {},
   "outputs": [],
   "source": [
    "df = df[keep]"
   ]
  },
  {
   "cell_type": "markdown",
   "id": "surrounded-crowd",
   "metadata": {},
   "source": [
    "### Check Class ImBalance"
   ]
  },
  {
   "cell_type": "code",
   "execution_count": 43,
   "id": "efficient-strain",
   "metadata": {},
   "outputs": [
    {
     "data": {
      "text/plain": [
       "2    458\n",
       "4    241\n",
       "Name: Class, dtype: int64"
      ]
     },
     "execution_count": 43,
     "metadata": {},
     "output_type": "execute_result"
    }
   ],
   "source": [
    "df['Class'].value_counts()"
   ]
  },
  {
   "cell_type": "code",
   "execution_count": 44,
   "id": "elementary-administrator",
   "metadata": {},
   "outputs": [
    {
     "data": {
      "text/plain": [
       "<AxesSubplot:>"
      ]
     },
     "execution_count": 44,
     "metadata": {},
     "output_type": "execute_result"
    },
    {
     "data": {
      "image/png": "[encoded data removed]",
      "text/plain": [
       "<Figure size 432x288 with 1 Axes>"
      ]
     },
     "metadata": {
      "needs_background": "light"
     },
     "output_type": "display_data"
    }
   ],
   "source": [
    "pd.Series(df['Class'].unique()).plot(kind='bar')"
   ]
  },
  {
   "cell_type": "markdown",
   "id": "analyzed-african",
   "metadata": {},
   "source": [
    "### Which is 2:1 consider 2-- as 0 or no 4 -- as 1 or yes or malignant"
   ]
  },
  {
   "cell_type": "markdown",
   "id": "historic-bandwidth",
   "metadata": {},
   "source": [
    "# 2.Feature Enginnering"
   ]
  },
  {
   "cell_type": "markdown",
   "id": "touched-academy",
   "metadata": {},
   "source": [
    "### 1. Drop Missing Values In Bare Nuclei"
   ]
  },
  {
   "cell_type": "code",
   "execution_count": 45,
   "id": "renewable-mayor",
   "metadata": {},
   "outputs": [],
   "source": [
    "df.dropna(axis=0,inplace=True)"
   ]
  },
  {
   "cell_type": "code",
   "execution_count": 46,
   "id": "colonial-language",
   "metadata": {},
   "outputs": [
    {
     "data": {
      "text/plain": [
       "array([ 1., 10.,  2.,  4.,  3.,  9.,  7.,  5.,  8.,  6.])"
      ]
     },
     "execution_count": 46,
     "metadata": {},
     "output_type": "execute_result"
    }
   ],
   "source": [
    "df['Bare Nuclei'].unique()"
   ]
  },
  {
   "cell_type": "code",
   "execution_count": 47,
   "id": "average-commission",
   "metadata": {},
   "outputs": [
    {
     "data": {
      "text/plain": [
       "1.0     402\n",
       "10.0    132\n",
       "5.0      30\n",
       "2.0      30\n",
       "3.0      28\n",
       "8.0      21\n",
       "4.0      19\n",
       "9.0       9\n",
       "7.0       8\n",
       "6.0       4\n",
       "Name: Bare Nuclei, dtype: int64"
      ]
     },
     "execution_count": 47,
     "metadata": {},
     "output_type": "execute_result"
    }
   ],
   "source": [
    "df['Bare Nuclei'].value_counts()"
   ]
  },
  {
   "cell_type": "code",
   "execution_count": 48,
   "id": "african-melissa",
   "metadata": {},
   "outputs": [
    {
     "data": {
      "text/plain": [
       "<AxesSubplot:>"
      ]
     },
     "execution_count": 48,
     "metadata": {},
     "output_type": "execute_result"
    },
    {
     "data": {
      "image/png": "[encoded data removed]",
      "text/plain": [
       "<Figure size 1728x720 with 3 Axes>"
      ]
     },
     "metadata": {
      "needs_background": "light"
     },
     "output_type": "display_data"
    }
   ],
   "source": [
    "mn.bar(df)"
   ]
  },
  {
   "cell_type": "markdown",
   "id": "communist-distributor",
   "metadata": {},
   "source": [
    "### 2. Drop column  Sample code number is No Use"
   ]
  },
  {
   "cell_type": "code",
   "execution_count": 49,
   "id": "educated-garbage",
   "metadata": {},
   "outputs": [],
   "source": [
    "df.drop('Sample code number',axis=1,inplace=True)"
   ]
  },
  {
   "cell_type": "markdown",
   "id": "timely-paragraph",
   "metadata": {},
   "source": [
    "# Goal(Matrix) :\n",
    "\n",
    "## Here from the problem statement we can conclude that we try to reduce FNR rather than FPR because Here Actually she has Cancer but According to FNR, Predicted as Negative,not Cancer which lead her to problem if she not take diagnosis on time its too late for cancer cure"
   ]
  },
  {
   "cell_type": "markdown",
   "id": "apparent-thriller",
   "metadata": {},
   "source": [
    "> **Import All Required Library For Machine Learning**"
   ]
  },
  {
   "cell_type": "code",
   "execution_count": 50,
   "id": "identified-surprise",
   "metadata": {},
   "outputs": [],
   "source": [
    "from sklearn.model_selection import train_test_split\n",
    "from sklearn.metrics import confusion_matrix,classification_report,accuracy_score\n",
    "from sklearn.model_selection import cross_val_score,KFold\n",
    "from sklearn.neighbors import KNeighborsClassifier\n",
    "from sklearn.preprocessing import MinMaxScaler"
   ]
  },
  {
   "cell_type": "markdown",
   "id": "derived-routine",
   "metadata": {},
   "source": [
    "## 2. Feature Scaling"
   ]
  },
  {
   "cell_type": "code",
   "execution_count": 51,
   "id": "laden-capture",
   "metadata": {},
   "outputs": [],
   "source": [
    "ms = MinMaxScaler()"
   ]
  },
  {
   "cell_type": "code",
   "execution_count": 52,
   "id": "hollywood-cleaner",
   "metadata": {},
   "outputs": [],
   "source": [
    "scale_df = ms.fit_transform(df)"
   ]
  },
  {
   "cell_type": "code",
   "execution_count": 53,
   "id": "flexible-ordering",
   "metadata": {},
   "outputs": [],
   "source": [
    "df.iloc[:,:] = scale_df"
   ]
  },
  {
   "cell_type": "code",
   "execution_count": 54,
   "id": "violent-pontiac",
   "metadata": {},
   "outputs": [
    {
     "data": {
      "text/html": [
       "<div>\n",
       "<style scoped>\n",
       "    .dataframe tbody tr th:only-of-type {\n",
       "        vertical-align: middle;\n",
       "    }\n",
       "\n",
       "    .dataframe tbody tr th {\n",
       "        vertical-align: top;\n",
       "    }\n",
       "\n",
       "    .dataframe thead th {\n",
       "        text-align: right;\n",
       "    }\n",
       "</style>\n",
       "<table border=\"1\" class=\"dataframe\">\n",
       "  <thead>\n",
       "    <tr style=\"text-align: right;\">\n",
       "      <th></th>\n",
       "      <th>Clump Thickness</th>\n",
       "      <th>Uniformity of Cell Size</th>\n",
       "      <th>Marginal Adhesion</th>\n",
       "      <th>Single Epithelial Cell Size</th>\n",
       "      <th>Bare Nuclei</th>\n",
       "      <th>Bland Chromatin</th>\n",
       "      <th>Normal Nucleoli</th>\n",
       "      <th>Mitoses</th>\n",
       "      <th>Class</th>\n",
       "    </tr>\n",
       "  </thead>\n",
       "  <tbody>\n",
       "    <tr>\n",
       "      <th>0</th>\n",
       "      <td>0.444444</td>\n",
       "      <td>0.000000</td>\n",
       "      <td>0.000000</td>\n",
       "      <td>0.111111</td>\n",
       "      <td>0.000000</td>\n",
       "      <td>0.222222</td>\n",
       "      <td>0.000000</td>\n",
       "      <td>0.0</td>\n",
       "      <td>0.0</td>\n",
       "    </tr>\n",
       "    <tr>\n",
       "      <th>1</th>\n",
       "      <td>0.444444</td>\n",
       "      <td>0.333333</td>\n",
       "      <td>0.444444</td>\n",
       "      <td>0.666667</td>\n",
       "      <td>1.000000</td>\n",
       "      <td>0.222222</td>\n",
       "      <td>0.111111</td>\n",
       "      <td>0.0</td>\n",
       "      <td>0.0</td>\n",
       "    </tr>\n",
       "    <tr>\n",
       "      <th>2</th>\n",
       "      <td>0.222222</td>\n",
       "      <td>0.000000</td>\n",
       "      <td>0.000000</td>\n",
       "      <td>0.111111</td>\n",
       "      <td>0.111111</td>\n",
       "      <td>0.222222</td>\n",
       "      <td>0.000000</td>\n",
       "      <td>0.0</td>\n",
       "      <td>0.0</td>\n",
       "    </tr>\n",
       "    <tr>\n",
       "      <th>3</th>\n",
       "      <td>0.555556</td>\n",
       "      <td>0.777778</td>\n",
       "      <td>0.000000</td>\n",
       "      <td>0.222222</td>\n",
       "      <td>0.333333</td>\n",
       "      <td>0.222222</td>\n",
       "      <td>0.666667</td>\n",
       "      <td>0.0</td>\n",
       "      <td>0.0</td>\n",
       "    </tr>\n",
       "    <tr>\n",
       "      <th>4</th>\n",
       "      <td>0.333333</td>\n",
       "      <td>0.000000</td>\n",
       "      <td>0.222222</td>\n",
       "      <td>0.111111</td>\n",
       "      <td>0.000000</td>\n",
       "      <td>0.222222</td>\n",
       "      <td>0.000000</td>\n",
       "      <td>0.0</td>\n",
       "      <td>0.0</td>\n",
       "    </tr>\n",
       "  </tbody>\n",
       "</table>\n",
       "</div>"
      ],
      "text/plain": [
       "   Clump Thickness   Uniformity of Cell Size  Marginal Adhesion  \\\n",
       "0          0.444444                 0.000000           0.000000   \n",
       "1          0.444444                 0.333333           0.444444   \n",
       "2          0.222222                 0.000000           0.000000   \n",
       "3          0.555556                 0.777778           0.000000   \n",
       "4          0.333333                 0.000000           0.222222   \n",
       "\n",
       "   Single Epithelial Cell Size  Bare Nuclei  Bland Chromatin  Normal Nucleoli  \\\n",
       "0                     0.111111     0.000000         0.222222         0.000000   \n",
       "1                     0.666667     1.000000         0.222222         0.111111   \n",
       "2                     0.111111     0.111111         0.222222         0.000000   \n",
       "3                     0.222222     0.333333         0.222222         0.666667   \n",
       "4                     0.111111     0.000000         0.222222         0.000000   \n",
       "\n",
       "   Mitoses   Class  \n",
       "0       0.0    0.0  \n",
       "1       0.0    0.0  \n",
       "2       0.0    0.0  \n",
       "3       0.0    0.0  \n",
       "4       0.0    0.0  "
      ]
     },
     "execution_count": 54,
     "metadata": {},
     "output_type": "execute_result"
    }
   ],
   "source": [
    "df.head()"
   ]
  },
  {
   "cell_type": "code",
   "execution_count": 55,
   "id": "exciting-degree",
   "metadata": {},
   "outputs": [],
   "source": [
    "df['Class'] = df['Class'].astype('int64')"
   ]
  },
  {
   "cell_type": "markdown",
   "id": "static-divide",
   "metadata": {},
   "source": [
    "## 4.Model Building "
   ]
  },
  {
   "cell_type": "markdown",
   "id": "qualified-variance",
   "metadata": {},
   "source": [
    "###  Set x and y values"
   ]
  },
  {
   "cell_type": "code",
   "execution_count": 56,
   "id": "annoying-gender",
   "metadata": {},
   "outputs": [],
   "source": [
    "X = df.iloc[:,:-1]\n",
    "y = df.iloc[:,-1]"
   ]
  },
  {
   "cell_type": "code",
   "execution_count": 57,
   "id": "communist-monkey",
   "metadata": {},
   "outputs": [],
   "source": [
    "trainx,testx,trainy,testy = train_test_split(X,y,test_size=0.3,shuffle=True)"
   ]
  },
  {
   "cell_type": "code",
   "execution_count": 58,
   "id": "sealed-equilibrium",
   "metadata": {},
   "outputs": [
    {
     "name": "stdout",
     "output_type": "stream",
     "text": [
      "(478, 8)\n",
      "(205, 8)\n",
      "(478,)\n",
      "(205,)\n"
     ]
    }
   ],
   "source": [
    "print(trainx.shape)\n",
    "print(testx.shape)\n",
    "print(trainy.shape)\n",
    "print(testy.shape)"
   ]
  },
  {
   "cell_type": "markdown",
   "id": "reasonable-township",
   "metadata": {},
   "source": [
    "> p = 1 manhattan distance and metric = 'manhattan'\n",
    "\n",
    "\n",
    "> p = 2 euclidean distance and metric = 'euclidean' default is p=2\n",
    "\n",
    "\n",
    "> p >= 3 chevbychev distance \n"
   ]
  },
  {
   "cell_type": "code",
   "execution_count": 59,
   "id": "editorial-period",
   "metadata": {},
   "outputs": [],
   "source": [
    "m1 = KNeighborsClassifier(n_jobs=-1,metric='euclidean').fit(trainx,trainy)"
   ]
  },
  {
   "cell_type": "code",
   "execution_count": 60,
   "id": "official-glory",
   "metadata": {},
   "outputs": [],
   "source": [
    "p1 = m1.predict(testx)"
   ]
  },
  {
   "cell_type": "markdown",
   "id": "neutral-springer",
   "metadata": {},
   "source": [
    "###  Confusion Matrix and Classification Report"
   ]
  },
  {
   "cell_type": "code",
   "execution_count": 62,
   "id": "social-death",
   "metadata": {},
   "outputs": [
    {
     "data": {
      "text/plain": [
       "array([[121,   6],\n",
       "       [  1,  77]], dtype=int64)"
      ]
     },
     "execution_count": 62,
     "metadata": {},
     "output_type": "execute_result"
    }
   ],
   "source": [
    "confusion_matrix(testy,p1)"
   ]
  },
  {
   "cell_type": "code",
   "execution_count": 63,
   "id": "powerful-combat",
   "metadata": {},
   "outputs": [
    {
     "name": "stdout",
     "output_type": "stream",
     "text": [
      "              precision    recall  f1-score   support\n",
      "\n",
      "           0       0.99      0.95      0.97       127\n",
      "           1       0.93      0.99      0.96        78\n",
      "\n",
      "    accuracy                           0.97       205\n",
      "   macro avg       0.96      0.97      0.96       205\n",
      "weighted avg       0.97      0.97      0.97       205\n",
      "\n"
     ]
    }
   ],
   "source": [
    "print(classification_report(testy,p1))"
   ]
  },
  {
   "cell_type": "markdown",
   "id": "prerequisite-listening",
   "metadata": {},
   "source": [
    "## Model Evalution "
   ]
  },
  {
   "cell_type": "markdown",
   "id": "surprising-sperm",
   "metadata": {},
   "source": [
    "### Cross-Validation"
   ]
  },
  {
   "cell_type": "code",
   "execution_count": 64,
   "id": "durable-romance",
   "metadata": {},
   "outputs": [
    {
     "name": "stderr",
     "output_type": "stream",
     "text": [
      "[Parallel(n_jobs=-1)]: Using backend LokyBackend with 12 concurrent workers.\n",
      "[Parallel(n_jobs=-1)]: Done   3 out of  11 | elapsed:    7.0s remaining:   18.8s\n",
      "[Parallel(n_jobs=-1)]: Done   6 out of  11 | elapsed:    7.0s remaining:    5.8s\n",
      "[Parallel(n_jobs=-1)]: Done   9 out of  11 | elapsed:    7.1s remaining:    1.5s\n",
      "[Parallel(n_jobs=-1)]: Done  11 out of  11 | elapsed:    7.1s finished\n"
     ]
    }
   ],
   "source": [
    "train_cv= np.mean(cross_val_score(m1,trainx,trainy,scoring='accuracy',cv=11,verbose=5,n_jobs=-1))"
   ]
  },
  {
   "cell_type": "code",
   "execution_count": 65,
   "id": "federal-cisco",
   "metadata": {},
   "outputs": [
    {
     "name": "stderr",
     "output_type": "stream",
     "text": [
      "[Parallel(n_jobs=-1)]: Using backend LokyBackend with 12 concurrent workers.\n",
      "[Parallel(n_jobs=-1)]: Done   3 out of  11 | elapsed:    0.1s remaining:    0.4s\n",
      "[Parallel(n_jobs=-1)]: Done   6 out of  11 | elapsed:    0.1s remaining:    0.1s\n",
      "[Parallel(n_jobs=-1)]: Done   9 out of  11 | elapsed:    0.1s remaining:    0.0s\n",
      "[Parallel(n_jobs=-1)]: Done  11 out of  11 | elapsed:    3.1s finished\n"
     ]
    }
   ],
   "source": [
    "test_cv = np.mean(cross_val_score(m1,testx,testy,scoring='accuracy',cv=11,verbose=5,n_jobs=-1))"
   ]
  },
  {
   "cell_type": "code",
   "execution_count": 66,
   "id": "natural-military",
   "metadata": {},
   "outputs": [
    {
     "name": "stdout",
     "output_type": "stream",
     "text": [
      "0.9769844320584279\n",
      "0.961190855927698\n"
     ]
    }
   ],
   "source": [
    "print(train_cv)\n",
    "print(test_cv)"
   ]
  },
  {
   "cell_type": "markdown",
   "id": "subject-breakfast",
   "metadata": {},
   "source": [
    "##  Choose best K Values"
   ]
  },
  {
   "cell_type": "code",
   "execution_count": 67,
   "id": "golden-engineering",
   "metadata": {},
   "outputs": [],
   "source": [
    "cv_score = list()\n",
    "k_range = np.arange(3,62)"
   ]
  },
  {
   "cell_type": "code",
   "execution_count": 68,
   "id": "indian-membership",
   "metadata": {},
   "outputs": [],
   "source": [
    "for k in k_range:\n",
    "    m2 = KNeighborsClassifier(n_neighbors=k,n_jobs=-1)\n",
    "    acc = cross_val_score(m2,trainx,trainy,scoring='accuracy',cv=11,n_jobs=-1)\n",
    "    cv_score.append(np.round(acc.mean(),4))"
   ]
  },
  {
   "cell_type": "code",
   "execution_count": 69,
   "id": "strategic-declaration",
   "metadata": {},
   "outputs": [],
   "source": [
    "optimum_K = k_range[cv_score.index(max(cv_score))]"
   ]
  },
  {
   "cell_type": "code",
   "execution_count": 70,
   "id": "indonesian-exercise",
   "metadata": {},
   "outputs": [
    {
     "data": {
      "text/plain": [
       "5"
      ]
     },
     "execution_count": 70,
     "metadata": {},
     "output_type": "execute_result"
    }
   ],
   "source": [
    "optimum_K"
   ]
  },
  {
   "cell_type": "markdown",
   "id": "separate-slovenia",
   "metadata": {},
   "source": [
    "## K=5 which is already Build On model 1"
   ]
  },
  {
   "cell_type": "markdown",
   "id": "improved-exchange",
   "metadata": {},
   "source": [
    "## Plot The Graph For Finding K"
   ]
  },
  {
   "cell_type": "code",
   "execution_count": 72,
   "id": "identified-forward",
   "metadata": {},
   "outputs": [
    {
     "data": {
      "text/plain": [
       "Text(0, 0.5, 'Accuracy')"
      ]
     },
     "execution_count": 72,
     "metadata": {},
     "output_type": "execute_result"
    },
    {
     "data": {
      "image/png": "[encoded data removed]",
      "text/plain": [
       "<Figure size 720x720 with 1 Axes>"
      ]
     },
     "metadata": {
      "needs_background": "light"
     },
     "output_type": "display_data"
    }
   ],
   "source": [
    "plt.figure(figsize=(10,10))\n",
    "plt.plot(np.arange(3,62),cv_score,marker = '*',markerfacecolor='black',markersize=15,linestyle = '--')\n",
    "plt.title('Accuracy Rate Vs K-Values')\n",
    "plt.xlabel('K-Values')\n",
    "plt.ylabel('Accuracy')"
   ]
  },
  {
   "cell_type": "markdown",
   "id": "improving-exception",
   "metadata": {},
   "source": [
    "##  Export Model In Pickle File"
   ]
  },
  {
   "cell_type": "code",
   "execution_count": 163,
   "id": "apparent-humidity",
   "metadata": {},
   "outputs": [],
   "source": [
    "import pickle"
   ]
  },
  {
   "cell_type": "code",
   "execution_count": 164,
   "id": "trying-vertical",
   "metadata": {},
   "outputs": [],
   "source": [
    "filename = 'knn.pkl'"
   ]
  },
  {
   "cell_type": "code",
   "execution_count": 166,
   "id": "bound-chapter",
   "metadata": {},
   "outputs": [],
   "source": [
    "pickle.dump(m1,open(filename,'wb'))"
   ]
  },
  {
   "cell_type": "markdown",
   "id": "provincial-typing",
   "metadata": {},
   "source": [
    "### Verification of Model"
   ]
  },
  {
   "cell_type": "code",
   "execution_count": 73,
   "id": "written-square",
   "metadata": {},
   "outputs": [
    {
     "ename": "NameError",
     "evalue": "name 'pickle' is not defined",
     "output_type": "error",
     "traceback": [
      "\u001b[1;31m---------------------------------------------------------------------------\u001b[0m",
      "\u001b[1;31mNameError\u001b[0m                                 Traceback (most recent call last)",
      "\u001b[1;32m<ipython-input-73-3db4b7b6410f>\u001b[0m in \u001b[0;36m<module>\u001b[1;34m\u001b[0m\n\u001b[1;32m----> 1\u001b[1;33m \u001b[0mmodel\u001b[0m \u001b[1;33m=\u001b[0m \u001b[0mpickle\u001b[0m\u001b[1;33m.\u001b[0m\u001b[0mload\u001b[0m\u001b[1;33m(\u001b[0m\u001b[0mopen\u001b[0m\u001b[1;33m(\u001b[0m\u001b[0mfilename\u001b[0m\u001b[1;33m,\u001b[0m\u001b[1;34m'rb'\u001b[0m\u001b[1;33m)\u001b[0m\u001b[1;33m)\u001b[0m\u001b[1;33m\u001b[0m\u001b[1;33m\u001b[0m\u001b[0m\n\u001b[0m",
      "\u001b[1;31mNameError\u001b[0m: name 'pickle' is not defined"
     ]
    }
   ],
   "source": [
    "model = pickle.load(open(filename,'rb'))"
   ]
  },
  {
   "cell_type": "code",
   "execution_count": 170,
   "id": "logical-bottom",
   "metadata": {},
   "outputs": [],
   "source": [
    "pred = model.predict(testx)"
   ]
  },
  {
   "cell_type": "code",
   "execution_count": 172,
   "id": "adjusted-proceeding",
   "metadata": {},
   "outputs": [
    {
     "data": {
      "text/plain": [
       "array([[129,   2],\n",
       "       [  4,  70]], dtype=int64)"
      ]
     },
     "execution_count": 172,
     "metadata": {},
     "output_type": "execute_result"
    }
   ],
   "source": [
    "confusion_matrix(testy,pred)"
   ]
  },
  {
   "cell_type": "code",
   "execution_count": 173,
   "id": "executive-boulder",
   "metadata": {},
   "outputs": [
    {
     "data": {
      "text/html": [
       "<div>\n",
       "<style scoped>\n",
       "    .dataframe tbody tr th:only-of-type {\n",
       "        vertical-align: middle;\n",
       "    }\n",
       "\n",
       "    .dataframe tbody tr th {\n",
       "        vertical-align: top;\n",
       "    }\n",
       "\n",
       "    .dataframe thead th {\n",
       "        text-align: right;\n",
       "    }\n",
       "</style>\n",
       "<table border=\"1\" class=\"dataframe\">\n",
       "  <thead>\n",
       "    <tr style=\"text-align: right;\">\n",
       "      <th></th>\n",
       "      <th>Clump Thickness</th>\n",
       "      <th>Uniformity of Cell Size</th>\n",
       "      <th>Marginal Adhesion</th>\n",
       "      <th>Single Epithelial Cell Size</th>\n",
       "      <th>Bare Nuclei</th>\n",
       "      <th>Bland Chromatin</th>\n",
       "      <th>Normal Nucleoli</th>\n",
       "      <th>Mitoses</th>\n",
       "      <th>Class</th>\n",
       "    </tr>\n",
       "  </thead>\n",
       "  <tbody>\n",
       "    <tr>\n",
       "      <th>0</th>\n",
       "      <td>0.444444</td>\n",
       "      <td>0.000000</td>\n",
       "      <td>0.000000</td>\n",
       "      <td>0.111111</td>\n",
       "      <td>0.000000</td>\n",
       "      <td>0.222222</td>\n",
       "      <td>0.000000</td>\n",
       "      <td>0.0</td>\n",
       "      <td>0</td>\n",
       "    </tr>\n",
       "    <tr>\n",
       "      <th>1</th>\n",
       "      <td>0.444444</td>\n",
       "      <td>0.333333</td>\n",
       "      <td>0.444444</td>\n",
       "      <td>0.666667</td>\n",
       "      <td>1.000000</td>\n",
       "      <td>0.222222</td>\n",
       "      <td>0.111111</td>\n",
       "      <td>0.0</td>\n",
       "      <td>0</td>\n",
       "    </tr>\n",
       "    <tr>\n",
       "      <th>2</th>\n",
       "      <td>0.222222</td>\n",
       "      <td>0.000000</td>\n",
       "      <td>0.000000</td>\n",
       "      <td>0.111111</td>\n",
       "      <td>0.111111</td>\n",
       "      <td>0.222222</td>\n",
       "      <td>0.000000</td>\n",
       "      <td>0.0</td>\n",
       "      <td>0</td>\n",
       "    </tr>\n",
       "    <tr>\n",
       "      <th>3</th>\n",
       "      <td>0.555556</td>\n",
       "      <td>0.777778</td>\n",
       "      <td>0.000000</td>\n",
       "      <td>0.222222</td>\n",
       "      <td>0.333333</td>\n",
       "      <td>0.222222</td>\n",
       "      <td>0.666667</td>\n",
       "      <td>0.0</td>\n",
       "      <td>0</td>\n",
       "    </tr>\n",
       "    <tr>\n",
       "      <th>4</th>\n",
       "      <td>0.333333</td>\n",
       "      <td>0.000000</td>\n",
       "      <td>0.222222</td>\n",
       "      <td>0.111111</td>\n",
       "      <td>0.000000</td>\n",
       "      <td>0.222222</td>\n",
       "      <td>0.000000</td>\n",
       "      <td>0.0</td>\n",
       "      <td>0</td>\n",
       "    </tr>\n",
       "  </tbody>\n",
       "</table>\n",
       "</div>"
      ],
      "text/plain": [
       "   Clump Thickness   Uniformity of Cell Size  Marginal Adhesion  \\\n",
       "0          0.444444                 0.000000           0.000000   \n",
       "1          0.444444                 0.333333           0.444444   \n",
       "2          0.222222                 0.000000           0.000000   \n",
       "3          0.555556                 0.777778           0.000000   \n",
       "4          0.333333                 0.000000           0.222222   \n",
       "\n",
       "   Single Epithelial Cell Size  Bare Nuclei  Bland Chromatin  Normal Nucleoli  \\\n",
       "0                     0.111111     0.000000         0.222222         0.000000   \n",
       "1                     0.666667     1.000000         0.222222         0.111111   \n",
       "2                     0.111111     0.111111         0.222222         0.000000   \n",
       "3                     0.222222     0.333333         0.222222         0.666667   \n",
       "4                     0.111111     0.000000         0.222222         0.000000   \n",
       "\n",
       "   Mitoses   Class  \n",
       "0       0.0      0  \n",
       "1       0.0      0  \n",
       "2       0.0      0  \n",
       "3       0.0      0  \n",
       "4       0.0      0  "
      ]
     },
     "execution_count": 173,
     "metadata": {},
     "output_type": "execute_result"
    }
   ],
   "source": [
    "df.head()"
   ]
  },
  {
   "cell_type": "markdown",
   "id": "antique-grenada",
   "metadata": {},
   "source": [
    "## How to Predict on Flask App Demo"
   ]
  },
  {
   "cell_type": "code",
   "execution_count": 189,
   "id": "synthetic-apartment",
   "metadata": {},
   "outputs": [],
   "source": [
    "ar = pd.DataFrame(data={'Clump Thickness': [0.44],'Uniformity of Cell Size':[0.00],'Marginal Adhesion':[0.00],'Single Epithelial Cell Size':[0.11],\n",
    "                        'Bare Nuclei':[0.00],'Bland Chromatin':[0.22],'Normal Nucleoli':[0.00],'Mitoses':[0.0]})"
   ]
  },
  {
   "cell_type": "code",
   "execution_count": 190,
   "id": "aggressive-entrance",
   "metadata": {},
   "outputs": [
    {
     "data": {
      "text/html": [
       "<div>\n",
       "<style scoped>\n",
       "    .dataframe tbody tr th:only-of-type {\n",
       "        vertical-align: middle;\n",
       "    }\n",
       "\n",
       "    .dataframe tbody tr th {\n",
       "        vertical-align: top;\n",
       "    }\n",
       "\n",
       "    .dataframe thead th {\n",
       "        text-align: right;\n",
       "    }\n",
       "</style>\n",
       "<table border=\"1\" class=\"dataframe\">\n",
       "  <thead>\n",
       "    <tr style=\"text-align: right;\">\n",
       "      <th></th>\n",
       "      <th>Clump Thickness</th>\n",
       "      <th>Uniformity of Cell Size</th>\n",
       "      <th>Marginal Adhesion</th>\n",
       "      <th>Single Epithelial Cell Size</th>\n",
       "      <th>Bare Nuclei</th>\n",
       "      <th>Bland Chromatin</th>\n",
       "      <th>Normal Nucleoli</th>\n",
       "      <th>Mitoses</th>\n",
       "    </tr>\n",
       "  </thead>\n",
       "  <tbody>\n",
       "    <tr>\n",
       "      <th>0</th>\n",
       "      <td>0.44</td>\n",
       "      <td>0.0</td>\n",
       "      <td>0.0</td>\n",
       "      <td>0.11</td>\n",
       "      <td>0.0</td>\n",
       "      <td>0.22</td>\n",
       "      <td>0.0</td>\n",
       "      <td>0.0</td>\n",
       "    </tr>\n",
       "  </tbody>\n",
       "</table>\n",
       "</div>"
      ],
      "text/plain": [
       "   Clump Thickness  Uniformity of Cell Size  Marginal Adhesion  \\\n",
       "0             0.44                      0.0                0.0   \n",
       "\n",
       "   Single Epithelial Cell Size  Bare Nuclei  Bland Chromatin  Normal Nucleoli  \\\n",
       "0                         0.11          0.0             0.22              0.0   \n",
       "\n",
       "   Mitoses  \n",
       "0      0.0  "
      ]
     },
     "execution_count": 190,
     "metadata": {},
     "output_type": "execute_result"
    }
   ],
   "source": [
    "ar"
   ]
  },
  {
   "cell_type": "code",
   "execution_count": 191,
   "id": "hundred-apparel",
   "metadata": {},
   "outputs": [
    {
     "data": {
      "text/plain": [
       "array([0], dtype=int64)"
      ]
     },
     "execution_count": 191,
     "metadata": {},
     "output_type": "execute_result"
    }
   ],
   "source": [
    "model.predict(ar)"
   ]
  },
  {
   "cell_type": "code",
   "execution_count": null,
   "id": "located-honduras",
   "metadata": {},
   "outputs": [],
   "source": []
  }
 ],
 "metadata": {
  "kernelspec": {
   "display_name": "Python 3",
   "language": "python",
   "name": "python3"
  },
  "language_info": {
   "codemirror_mode": {
    "name": "ipython",
    "version": 3
   },
   "file_extension": ".py",
   "mimetype": "text/x-python",
   "name": "python",
   "nbconvert_exporter": "python",
   "pygments_lexer": "ipython3",
   "version": "3.7.9"
  }
 },
 "nbformat": 4,
 "nbformat_minor": 5
}
